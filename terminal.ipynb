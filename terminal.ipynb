{
 "cells": [
  {
   "cell_type": "code",
   "execution_count": 1,
   "metadata": {},
   "outputs": [],
   "source": [
    "import pandas as pd "
   ]
  },
  {
   "cell_type": "code",
   "execution_count": 22,
   "metadata": {},
   "outputs": [],
   "source": [
    "data = [\n",
    "    {\n",
    "        \"manager\": \"Vasiliy\",\n",
    "        \"sales\": 2\n",
    "    },\n",
    "    {\n",
    "        \"manager\": \"Vasiliy\",\n",
    "        \"sales\": 3\n",
    "    },\n",
    "    {\n",
    "        \"manager\": \"Vasiliy\",\n",
    "        \"sales\": 4\n",
    "    },\n",
    "    {\n",
    "        \"manager\": \"Victor\",\n",
    "        \"sales\": 4\n",
    "    },\n",
    "]"
   ]
  },
  {
   "cell_type": "code",
   "execution_count": 23,
   "metadata": {},
   "outputs": [],
   "source": [
    "df = pd.DataFrame(data)"
   ]
  },
  {
   "cell_type": "code",
   "execution_count": 50,
   "metadata": {},
   "outputs": [
    {
     "data": {
      "text/plain": [
       "{'Vasiliy': [3, 9], 'Victor': [1, 4]}"
      ]
     },
     "execution_count": 50,
     "metadata": {},
     "output_type": "execute_result"
    }
   ],
   "source": [
    "pivot_df = df.pivot_table(index=\"manager\", aggfunc=[\"count\", \"sum\"]).to_dict(\"index\")\n",
    "pivot_df.update({key: [*value.values()] for key, value in pivot_df.items()})\n",
    "pivot_df"
   ]
  },
  {
   "cell_type": "code",
   "execution_count": 73,
   "metadata": {},
   "outputs": [],
   "source": [
    "manager_stats = df.groupby('manager')['sales'].agg(['sum', 'count']).to_dict(\"index\")\n",
    "manager_stats.update({key: [*value.values()] for key, value in manager_stats.items()})"
   ]
  },
  {
   "cell_type": "code",
   "execution_count": 74,
   "metadata": {},
   "outputs": [
    {
     "data": {
      "text/plain": [
       "{'Vasiliy': [9, 3], 'Victor': [4, 1]}"
      ]
     },
     "execution_count": 74,
     "metadata": {},
     "output_type": "execute_result"
    }
   ],
   "source": [
    "manager_stats"
   ]
  },
  {
   "cell_type": "code",
   "execution_count": 75,
   "metadata": {},
   "outputs": [],
   "source": [
    "manager_stats = df.groupby('manager')['sales'].agg(['count', 'sum']).to_dict(\"index\")\n",
    "# manager_stats.update({key: [*value.values()] for key, value in manager_stats.items()})\n",
    "\n",
    "for k, v in manager_stats.items():\n",
    "    manager_stats[k] = [*v.values()]"
   ]
  },
  {
   "cell_type": "code",
   "execution_count": 76,
   "metadata": {},
   "outputs": [
    {
     "data": {
      "text/plain": [
       "{'Vasiliy': [3, 9], 'Victor': [1, 4]}"
      ]
     },
     "execution_count": 76,
     "metadata": {},
     "output_type": "execute_result"
    }
   ],
   "source": [
    "manager_stats"
   ]
  },
  {
   "cell_type": "code",
   "execution_count": 68,
   "metadata": {},
   "outputs": [],
   "source": [
    "result = df.groupby('manager')['sales'].agg(['sum', 'count']).to_dict(\"index\")"
   ]
  },
  {
   "cell_type": "code",
   "execution_count": 69,
   "metadata": {},
   "outputs": [
    {
     "data": {
      "text/plain": [
       "{'Vasiliy': {'sum': 9, 'count': 3}, 'Victor': {'sum': 4, 'count': 1}}"
      ]
     },
     "execution_count": 69,
     "metadata": {},
     "output_type": "execute_result"
    }
   ],
   "source": [
    "result.to_dict(\"index\")"
   ]
  },
  {
   "cell_type": "code",
   "execution_count": 63,
   "metadata": {},
   "outputs": [
    {
     "data": {
      "text/plain": [
       "{'Vasiliy': [3, 9], 'Victor': [1, 4]}"
      ]
     },
     "execution_count": 63,
     "metadata": {},
     "output_type": "execute_result"
    }
   ],
   "source": [
    "manager_stats"
   ]
  },
  {
   "cell_type": "code",
   "execution_count": 54,
   "metadata": {},
   "outputs": [],
   "source": [
    "(result := df.pivot_table(index=\"manager\", aggfunc=[\"count\", \"sum\"])\\\n",
    "    .to_dict(\"index\"))\\\n",
    "    .update({key: [*value.values()] for key, value in result.items()})"
   ]
  },
  {
   "cell_type": "code",
   "execution_count": 55,
   "metadata": {},
   "outputs": [
    {
     "data": {
      "text/plain": [
       "{'Vasiliy': [3, 9], 'Victor': [1, 4]}"
      ]
     },
     "execution_count": 55,
     "metadata": {},
     "output_type": "execute_result"
    }
   ],
   "source": [
    "pivot_df"
   ]
  },
  {
   "cell_type": "code",
   "execution_count": 33,
   "metadata": {},
   "outputs": [
    {
     "name": "stdout",
     "output_type": "stream",
     "text": [
      "        count   sum\n",
      "        sales sales\n",
      "manager            \n",
      "Vasiliy     3     9\n",
      "Victor      1     4\n"
     ]
    }
   ],
   "source": [
    "print(l)"
   ]
  },
  {
   "cell_type": "code",
   "execution_count": null,
   "metadata": {},
   "outputs": [],
   "source": []
  }
 ],
 "metadata": {
  "kernelspec": {
   "display_name": "Python 3",
   "language": "python",
   "name": "python3"
  },
  "language_info": {
   "codemirror_mode": {
    "name": "ipython",
    "version": 3
   },
   "file_extension": ".py",
   "mimetype": "text/x-python",
   "name": "python",
   "nbconvert_exporter": "python",
   "pygments_lexer": "ipython3",
   "version": "3.10.12"
  }
 },
 "nbformat": 4,
 "nbformat_minor": 2
}
